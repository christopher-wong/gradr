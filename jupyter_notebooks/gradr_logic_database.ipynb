{
 "cells": [
  {
   "cell_type": "code",
   "execution_count": 70,
   "metadata": {
    "collapsed": true
   },
   "outputs": [],
   "source": [
    "import json\n",
    "import csv\n",
    "import pandas as pd\n",
    "import numpy as np\n",
    "import csv\n",
    "import collections\n",
    "\n",
    "import numpy as np"
   ]
  },
  {
   "cell_type": "code",
   "execution_count": 71,
   "metadata": {
    "collapsed": false
   },
   "outputs": [],
   "source": [
    "CAT1 = 'Homework'\n",
    "CAT2 = 'Quiz'\n",
    "CAT3 = 'Project'\n",
    "CAT4 = 'Participation'\n",
    "\n",
    "\n",
    "weights = collections.OrderedDict(\n",
    "    {CAT1: 0.24,\n",
    "     CAT2: 0.50,\n",
    "     CAT3: 0.24,\n",
    "     CAT4 : 0.02})\n",
    "\n",
    "grades = collections.OrderedDict(\n",
    "    {CAT1: [82, 100, 97, 93, 92, 98, 98, 98],\n",
    "     CAT2: [86, 80, 71, 84, 64],\n",
    "     CAT3: [110],\n",
    "     CAT4: [100]})\n",
    "\n",
    "averages = [np.average(grades[CAT1]), \n",
    "            np.average(grades[CAT2]), \n",
    "            np.average(grades[CAT3]), \n",
    "            np.average(grades[CAT4])]\n",
    "\n",
    "total_weighted_avg = np.average(averages, weights=list(weights.values()))"
   ]
  },
  {
   "cell_type": "code",
   "execution_count": 72,
   "metadata": {
    "collapsed": false
   },
   "outputs": [
    {
     "name": "stdout",
     "output_type": "stream",
     "text": [
      "========================================\n",
      "Overall Weighted Average: 98.22%\n",
      "========================================\n",
      "Homework Average: 94.75%\n",
      "Quiz Average: 77.00%\n",
      "Project Average: 110.00%\n",
      "Participation Average (est): 100.00%\n"
     ]
    }
   ],
   "source": [
    "print(\"=\" * 40)\n",
    "print(\"Overall Weighted Average: {0:.2f}%\".format(total_weighted_avg))\n",
    "print(\"=\" * 40)\n",
    "print(\"Homework Average: {0:.2f}%\".format(np.average(grades[CAT1])))\n",
    "print(\"Quiz Average: {0:.2f}%\".format(np.average(grades[CAT2])))\n",
    "print(\"Project Average: {0:.2f}%\".format(np.average(grades[CAT3])))\n",
    "print(\"Participation Average (est): {0:.2f}%\".format(np.average(grades[CAT4])))"
   ]
  },
  {
   "cell_type": "code",
   "execution_count": null,
   "metadata": {
    "collapsed": false
   },
   "outputs": [],
   "source": []
  },
  {
   "cell_type": "code",
   "execution_count": null,
   "metadata": {
    "collapsed": false
   },
   "outputs": [],
   "source": []
  },
  {
   "cell_type": "code",
   "execution_count": null,
   "metadata": {
    "collapsed": false
   },
   "outputs": [],
   "source": []
  },
  {
   "cell_type": "code",
   "execution_count": null,
   "metadata": {
    "collapsed": false
   },
   "outputs": [],
   "source": []
  },
  {
   "cell_type": "code",
   "execution_count": null,
   "metadata": {
    "collapsed": true
   },
   "outputs": [],
   "source": []
  }
 ],
 "metadata": {
  "kernelspec": {
   "display_name": "Python [default]",
   "language": "python",
   "name": "python3"
  },
  "language_info": {
   "codemirror_mode": {
    "name": "ipython",
    "version": 3
   },
   "file_extension": ".py",
   "mimetype": "text/x-python",
   "name": "python",
   "nbconvert_exporter": "python",
   "pygments_lexer": "ipython3",
   "version": "3.5.2"
  }
 },
 "nbformat": 4,
 "nbformat_minor": 2
}
