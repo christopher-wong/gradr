{
 "cells": [
  {
   "cell_type": "code",
   "execution_count": 2,
   "metadata": {
    "collapsed": true
   },
   "outputs": [],
   "source": [
    "import json\n",
    "import csv\n",
    "import pandas as pd\n",
    "import numpy as np\n",
    "import csv\n",
    "\n",
    "from numpy import average as npa"
   ]
  },
  {
   "cell_type": "code",
   "execution_count": 7,
   "metadata": {
    "collapsed": false
   },
   "outputs": [
    {
     "name": "stdout",
     "output_type": "stream",
     "text": [
      "========================================\n",
      "Overall Weighted Average: 87.67%\n",
      "========================================\n",
      "Projects Average: 100.00%\n",
      "Quiz Average: 72.61%\n",
      "Class Participation Average: 100.00%\n"
     ]
    }
   ],
   "source": [
    "CAT1 = 'Projects'\n",
    "CAT2 = 'Quizzes'\n",
    "CAT3 = 'Class Participation'\n",
    "\n",
    "weights = {CAT1: 0.50,\n",
    "           CAT2: 0.45,\n",
    "           CAT3: 0.05}\n",
    "\n",
    "grades = {CAT1: [100, 100, 100, 90, 100, 100, 100, 110, 100, 100],\n",
    "          CAT2: [94, 75, 65, 67.5, 6.75, 70, 130],\n",
    "          CAT3: [100]}\n",
    "\n",
    "averages = [npa(grades[CAT1]), \n",
    "            npa(grades[CAT2]), \n",
    "            npa(grades[CAT3])]\n",
    "\n",
    "total_weighted_avg = np.average(averages, weights=list(weights.values()))\n",
    "\n",
    "print(\"=\" * 40)\n",
    "print(\"Overall Weighted Average: {0:.2f}%\".format(total_weighted_avg))\n",
    "print(\"=\" * 40)\n",
    "print(\"Projects Average: {0:.2f}%\".format(np.average(grades[CAT1])))\n",
    "print(\"Quiz Average: {0:.2f}%\".format(np.average(grades[CAT2])))\n",
    "print(\"Class Participation Average: {0:.2f}%\".format(np.average(grades[CAT3])))"
   ]
  },
  {
   "cell_type": "code",
   "execution_count": null,
   "metadata": {
    "collapsed": false
   },
   "outputs": [],
   "source": []
  },
  {
   "cell_type": "code",
   "execution_count": null,
   "metadata": {
    "collapsed": false
   },
   "outputs": [],
   "source": []
  },
  {
   "cell_type": "code",
   "execution_count": null,
   "metadata": {
    "collapsed": false
   },
   "outputs": [],
   "source": []
  },
  {
   "cell_type": "code",
   "execution_count": null,
   "metadata": {
    "collapsed": false
   },
   "outputs": [],
   "source": []
  },
  {
   "cell_type": "code",
   "execution_count": null,
   "metadata": {
    "collapsed": true
   },
   "outputs": [],
   "source": []
  },
  {
   "cell_type": "code",
   "execution_count": null,
   "metadata": {
    "collapsed": true
   },
   "outputs": [],
   "source": []
  }
 ],
 "metadata": {
  "kernelspec": {
   "display_name": "Python [default]",
   "language": "python",
   "name": "python3"
  },
  "language_info": {
   "codemirror_mode": {
    "name": "ipython",
    "version": 3
   },
   "file_extension": ".py",
   "mimetype": "text/x-python",
   "name": "python",
   "nbconvert_exporter": "python",
   "pygments_lexer": "ipython3",
   "version": "3.5.2"
  }
 },
 "nbformat": 4,
 "nbformat_minor": 2
}
